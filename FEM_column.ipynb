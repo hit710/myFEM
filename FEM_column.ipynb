{
 "cells": [
  {
   "cell_type": "code",
   "execution_count": 34,
   "metadata": {},
   "outputs": [],
   "source": [
    "import math\n",
    "import numpy as np "
   ]
  },
  {
   "cell_type": "code",
   "execution_count": 35,
   "metadata": {},
   "outputs": [],
   "source": [
    "sqrt, cos, sin, pi = math.sqrt, math.cos, math.sin, math.pi\n",
    "\"前处理\"\n",
    "nodeNumber = 4\n",
    "KK = np.zeros((2*nodeNumber, 2*nodeNumber))"
   ]
  },
  {
   "cell_type": "code",
   "execution_count": 36,
   "metadata": {},
   "outputs": [
    {
     "name": "stdout",
     "output_type": "stream",
     "text": [
      "[[0. 0. 0. 0. 0. 0. 0. 0.]\n",
      " [0. 0. 0. 0. 0. 0. 0. 0.]\n",
      " [0. 0. 0. 0. 0. 0. 0. 0.]\n",
      " [0. 0. 0. 0. 0. 0. 0. 0.]\n",
      " [0. 0. 0. 0. 0. 0. 0. 0.]\n",
      " [0. 0. 0. 0. 0. 0. 0. 0.]\n",
      " [0. 0. 0. 0. 0. 0. 0. 0.]\n",
      " [0. 0. 0. 0. 0. 0. 0. 0.]]\n"
     ]
    }
   ],
   "source": [
    "print(KK)"
   ]
  },
  {
   "cell_type": "code",
   "execution_count": 37,
   "metadata": {},
   "outputs": [],
   "source": [
    "U = np.array([0, 0, 'u_Unknown', 0, 'u_Unknown', 'u_Unknown', 0, 0], dtype=object)\n",
    "F = np.array(['f_Unknown', 'f_Unknown', 2e4, 'f_Unknown', 0, -2.5e4, 'f_Unknown', 'f_Unknown'], dtype=object)"
   ]
  },
  {
   "cell_type": "code",
   "execution_count": 38,
   "metadata": {},
   "outputs": [],
   "source": [
    "class Bar2D:\n",
    "    \"\"\"定义二维杆单元类，该类包含杆件的基本信息：\n",
    "    E 弹性模量，A 杆单元面积，i 单元起点的节点编号，j 单元终点的节点编号\n",
    "    x1 y1 起点的坐标，x2 y2 终点的坐标，\n",
    "    DOF 单元在总体刚度矩阵里面所在的位置,L 单元的长度，\n",
    "    cos sin 单元的方向余弦 方向正弦，\n",
    "    k 单元刚度矩阵\"\"\"\n",
    "    def __init__(self, E, A, x1, y1, x2, y2, i, j):\n",
    "        self.E = E\n",
    "        self.A = A\n",
    "        self.i = i\n",
    "        self.j = j\n",
    "        # 定义一个由单刚矩阵的自由度向总刚矩阵自由度转换的数组\n",
    "        self.DOF = np.array([2*i-2, 2*i-1, 2*j-2, 2*j-1],dtype=np.int16)\n",
    "        self.L = sqrt((x1 - x2)**2 + (y1 - y2)**2)\n",
    "        self.cos = (x2 - x1) / self.L\n",
    "        self.sin = (y2 - y1) / self.L\n",
    "        L, c, s = self.L, self.cos, self.sin\n",
    "        self.k = (E*A/L)*np.array([[c*c, c*s, -c*c, -c*s],\n",
    "                                    [c*s, s*s, -c*s, -s*s],\n",
    "                                    [-c*c, -c*s, c*c, c*s],\n",
    "                                    [-c*s, -s*s, c*s, s*s]])\n",
    "    \"定义求解单元应力的函数\"\n",
    "    def stress(U):\n",
    "        # 从位移矩阵U中获取该单元两个节点的1*4位移矩阵\n",
    "        u = U(self.DOF)\n",
    "        E, L, c, s = self.E, self.L, self.c, self.s\n",
    "        T = np.array([-c, -s, c, s])\n",
    "        self.bar_Stress = E / L * np.dot(T, u)\n",
    "        return self.bar_Stress\n"
   ]
  },
  {
   "cell_type": "code",
   "execution_count": 39,
   "metadata": {},
   "outputs": [],
   "source": [
    "def Bar2D2Node_Assembly(KK, bar):\n",
    "    for  n1 in range(4):\n",
    "        for n2 in range(4):\n",
    "            KK[bar.DOF[n1], bar.DOF[n2]] += bar.k[n1, n2]\n",
    "    return KK"
   ]
  },
  {
   "cell_type": "code",
   "execution_count": 40,
   "metadata": {},
   "outputs": [],
   "source": [
    "def node_Disaplacement(KK, U, F):\n",
    "    # 获取缩减后的总刚矩阵\n",
    "    del_row_col = np.where(U == 0)\n",
    "    kk_delRow = np.delete(KK, del_row_col, 0)\n",
    "    kk_delCol = np.delete(kk_delRow, del_row_col,1)\n",
    "    kk = kk_delCol\n",
    "    # 获取节点位移位置对应的节点力矩阵\n",
    "    f = F[np.where(U == 'u_Unknown')]\n",
    "    f=np.array(f,dtype='float')\n",
    "    u = np.linalg.solve(kk, f)\n",
    "    U[np.where(U=='u_Unknown')] = u\n",
    "    return U"
   ]
  },
  {
   "cell_type": "code",
   "execution_count": 41,
   "metadata": {},
   "outputs": [],
   "source": [
    "'求解节点力，必须在已经求得节点位移U后才可调用本函数'\n",
    "def node_Force(KK, U):\n",
    "    F = np.dot(KK, U)\n",
    "    return F"
   ]
  },
  {
   "cell_type": "code",
   "execution_count": 42,
   "metadata": {},
   "outputs": [],
   "source": [
    "E, A, x1, y1, x2, y2, x3, y3, x4, y4 = 2.95e11, 0.0001, 0, 0, 0.4, 0, 0.4, 0.3, 0, 0.3\n",
    "bar1 = Bar2D(E, A, x1, y1, x2, y2, 1, 2)\n",
    "bar2 = Bar2D(E, A, x3, y3, x2, y2, 3, 2)\n",
    "bar3 = Bar2D(E, A, x1, y1, x3, y3, 1, 3)\n",
    "bar4 = Bar2D(E, A, x4, y4, x3, y3, 4, 3)\n",
    "\n",
    "bars = [bar1, bar2, bar3, bar4]\n",
    "\n",
    "for bar in bars:\n",
    "    Bar2D2Node_Assembly(KK, bar)"
   ]
  },
  {
   "cell_type": "code",
   "execution_count": 43,
   "metadata": {},
   "outputs": [],
   "source": [
    "# 求解位移\n",
    "U = node_Disaplacement(KK, U, F)\n",
    "# 求解节点力\n",
    "F = node_Force(KK, U)"
   ]
  },
  {
   "cell_type": "code",
   "execution_count": 44,
   "metadata": {},
   "outputs": [
    {
     "name": "stdout",
     "output_type": "stream",
     "text": [
      "[0 0 0.0002711864406779661 0 5.649717514124294e-05 -0.00022245762711864406\n",
      " 0 0]\n",
      "[-15833.333333333336 3125.0 20000.0 21875.0 0.0 -25000.0\n",
      " -4166.666666666667 0.0]\n"
     ]
    }
   ],
   "source": [
    "print(U)\n",
    "print(F)"
   ]
  },
  {
   "cell_type": "code",
   "execution_count": null,
   "metadata": {},
   "outputs": [],
   "source": []
  }
 ],
 "metadata": {
  "kernelspec": {
   "display_name": "Python 3",
   "language": "python",
   "name": "python3"
  },
  "language_info": {
   "codemirror_mode": {
    "name": "ipython",
    "version": 3
   },
   "file_extension": ".py",
   "mimetype": "text/x-python",
   "name": "python",
   "nbconvert_exporter": "python",
   "pygments_lexer": "ipython3",
   "version": "3.7.2"
  }
 },
 "nbformat": 4,
 "nbformat_minor": 2
}
